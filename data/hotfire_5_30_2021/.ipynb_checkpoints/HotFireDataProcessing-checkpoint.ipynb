{
 "cells": [
  {
   "cell_type": "markdown",
   "id": "large-expert",
   "metadata": {},
   "source": [
    "# Prometheus 2nd Hot Fire, 5/29/2021\n",
    "\n",
    "This notebook performs processing of the data collected from Prometheus' DAQ system during our 2nd Hot Fire trip."
   ]
  },
  {
   "cell_type": "code",
   "execution_count": 79,
   "id": "generic-breathing",
   "metadata": {},
   "outputs": [],
   "source": [
    "# import necessary libraries/modules\n",
    "\n",
    "# standard baseline\n",
    "import numpy as np # linear algebra\n",
    "import pandas as pd # data processing, CSV file I/O (e.g. pd.read_csv)\n",
    "import matplotlib.pyplot as plt # this is used for the plot the graph \n",
    "import os\n",
    "\n",
    "from sklearn.metrics import auc"
   ]
  },
  {
   "cell_type": "code",
   "execution_count": 19,
   "id": "continuing-subject",
   "metadata": {},
   "outputs": [],
   "source": [
    "# import the data required \n",
    "data = pd.read_csv('Hotfire1Attempt2_2ndREMOVEDISSUES.csv')"
   ]
  },
  {
   "cell_type": "code",
   "execution_count": 20,
   "id": "literary-device",
   "metadata": {},
   "outputs": [
    {
     "data": {
      "text/html": [
       "<div>\n",
       "<style scoped>\n",
       "    .dataframe tbody tr th:only-of-type {\n",
       "        vertical-align: middle;\n",
       "    }\n",
       "\n",
       "    .dataframe tbody tr th {\n",
       "        vertical-align: top;\n",
       "    }\n",
       "\n",
       "    .dataframe thead th {\n",
       "        text-align: right;\n",
       "    }\n",
       "</style>\n",
       "<table border=\"1\" class=\"dataframe\">\n",
       "  <thead>\n",
       "    <tr style=\"text-align: right;\">\n",
       "      <th></th>\n",
       "      <th>Timestamp</th>\n",
       "      <th>PT1</th>\n",
       "      <th>PT2</th>\n",
       "      <th>LC</th>\n",
       "      <th>LC_VOLT</th>\n",
       "      <th>Packet Delimiter</th>\n",
       "    </tr>\n",
       "  </thead>\n",
       "  <tbody>\n",
       "    <tr>\n",
       "      <th>0</th>\n",
       "      <td>1231339</td>\n",
       "      <td>-0.13</td>\n",
       "      <td>7.48</td>\n",
       "      <td>-0.4</td>\n",
       "      <td>0.0</td>\n",
       "      <td>-42069</td>\n",
       "    </tr>\n",
       "    <tr>\n",
       "      <th>1</th>\n",
       "      <td>1231370</td>\n",
       "      <td>-0.13</td>\n",
       "      <td>7.48</td>\n",
       "      <td>-0.4</td>\n",
       "      <td>0.0</td>\n",
       "      <td>-42069</td>\n",
       "    </tr>\n",
       "    <tr>\n",
       "      <th>2</th>\n",
       "      <td>1231400</td>\n",
       "      <td>-0.13</td>\n",
       "      <td>7.48</td>\n",
       "      <td>-0.4</td>\n",
       "      <td>0.0</td>\n",
       "      <td>-42069</td>\n",
       "    </tr>\n",
       "    <tr>\n",
       "      <th>3</th>\n",
       "      <td>1231430</td>\n",
       "      <td>-0.13</td>\n",
       "      <td>7.48</td>\n",
       "      <td>-0.4</td>\n",
       "      <td>0.0</td>\n",
       "      <td>-42069</td>\n",
       "    </tr>\n",
       "    <tr>\n",
       "      <th>4</th>\n",
       "      <td>1231461</td>\n",
       "      <td>1.09</td>\n",
       "      <td>7.48</td>\n",
       "      <td>-0.4</td>\n",
       "      <td>0.0</td>\n",
       "      <td>-42069</td>\n",
       "    </tr>\n",
       "    <tr>\n",
       "      <th>...</th>\n",
       "      <td>...</td>\n",
       "      <td>...</td>\n",
       "      <td>...</td>\n",
       "      <td>...</td>\n",
       "      <td>...</td>\n",
       "      <td>...</td>\n",
       "    </tr>\n",
       "    <tr>\n",
       "      <th>24594</th>\n",
       "      <td>2554099</td>\n",
       "      <td>2.30</td>\n",
       "      <td>7.48</td>\n",
       "      <td>-0.4</td>\n",
       "      <td>0.0</td>\n",
       "      <td>-42069</td>\n",
       "    </tr>\n",
       "    <tr>\n",
       "      <th>24595</th>\n",
       "      <td>2554190</td>\n",
       "      <td>2.30</td>\n",
       "      <td>8.69</td>\n",
       "      <td>-0.4</td>\n",
       "      <td>0.0</td>\n",
       "      <td>-42069</td>\n",
       "    </tr>\n",
       "    <tr>\n",
       "      <th>24596</th>\n",
       "      <td>2554283</td>\n",
       "      <td>1.09</td>\n",
       "      <td>7.48</td>\n",
       "      <td>-0.4</td>\n",
       "      <td>0.0</td>\n",
       "      <td>-42069</td>\n",
       "    </tr>\n",
       "    <tr>\n",
       "      <th>24597</th>\n",
       "      <td>2554313</td>\n",
       "      <td>1.09</td>\n",
       "      <td>8.69</td>\n",
       "      <td>-0.4</td>\n",
       "      <td>0.0</td>\n",
       "      <td>-42069</td>\n",
       "    </tr>\n",
       "    <tr>\n",
       "      <th>24598</th>\n",
       "      <td>2554344</td>\n",
       "      <td>1.09</td>\n",
       "      <td>7.48</td>\n",
       "      <td>-0.4</td>\n",
       "      <td>0.0</td>\n",
       "      <td>-42069</td>\n",
       "    </tr>\n",
       "  </tbody>\n",
       "</table>\n",
       "<p>24599 rows × 6 columns</p>\n",
       "</div>"
      ],
      "text/plain": [
       "       Timestamp   PT1   PT2   LC  LC_VOLT  Packet Delimiter\n",
       "0        1231339 -0.13  7.48 -0.4      0.0            -42069\n",
       "1        1231370 -0.13  7.48 -0.4      0.0            -42069\n",
       "2        1231400 -0.13  7.48 -0.4      0.0            -42069\n",
       "3        1231430 -0.13  7.48 -0.4      0.0            -42069\n",
       "4        1231461  1.09  7.48 -0.4      0.0            -42069\n",
       "...          ...   ...   ...  ...      ...               ...\n",
       "24594    2554099  2.30  7.48 -0.4      0.0            -42069\n",
       "24595    2554190  2.30  8.69 -0.4      0.0            -42069\n",
       "24596    2554283  1.09  7.48 -0.4      0.0            -42069\n",
       "24597    2554313  1.09  8.69 -0.4      0.0            -42069\n",
       "24598    2554344  1.09  7.48 -0.4      0.0            -42069\n",
       "\n",
       "[24599 rows x 6 columns]"
      ]
     },
     "execution_count": 20,
     "metadata": {},
     "output_type": "execute_result"
    }
   ],
   "source": [
    "data"
   ]
  },
  {
   "cell_type": "code",
   "execution_count": 21,
   "id": "romantic-fetish",
   "metadata": {},
   "outputs": [
    {
     "data": {
      "text/plain": [
       "Timestamp           0\n",
       "PT1                 0\n",
       "PT2                 0\n",
       "LC                  0\n",
       "LC_VOLT             0\n",
       "Packet Delimiter    0\n",
       "dtype: int64"
      ]
     },
     "execution_count": 21,
     "metadata": {},
     "output_type": "execute_result"
    }
   ],
   "source": [
    "# check for null values not taken out already by preprocessing\n",
    "data.isnull().sum()"
   ]
  },
  {
   "cell_type": "markdown",
   "id": "excess-bargain",
   "metadata": {},
   "source": [
    "We take a look for some general statistical information as follows (particularly for our max thrust read by our LC):"
   ]
  },
  {
   "cell_type": "code",
   "execution_count": 22,
   "id": "related-ticket",
   "metadata": {},
   "outputs": [
    {
     "data": {
      "text/html": [
       "<div>\n",
       "<style scoped>\n",
       "    .dataframe tbody tr th:only-of-type {\n",
       "        vertical-align: middle;\n",
       "    }\n",
       "\n",
       "    .dataframe tbody tr th {\n",
       "        vertical-align: top;\n",
       "    }\n",
       "\n",
       "    .dataframe thead th {\n",
       "        text-align: right;\n",
       "    }\n",
       "</style>\n",
       "<table border=\"1\" class=\"dataframe\">\n",
       "  <thead>\n",
       "    <tr style=\"text-align: right;\">\n",
       "      <th></th>\n",
       "      <th>Timestamp</th>\n",
       "      <th>PT1</th>\n",
       "      <th>PT2</th>\n",
       "      <th>LC</th>\n",
       "      <th>LC_VOLT</th>\n",
       "      <th>Packet Delimiter</th>\n",
       "    </tr>\n",
       "  </thead>\n",
       "  <tbody>\n",
       "    <tr>\n",
       "      <th>count</th>\n",
       "      <td>2.459900e+04</td>\n",
       "      <td>24599.000000</td>\n",
       "      <td>24599.000000</td>\n",
       "      <td>24599.000000</td>\n",
       "      <td>24599.000000</td>\n",
       "      <td>24599.0</td>\n",
       "    </tr>\n",
       "    <tr>\n",
       "      <th>mean</th>\n",
       "      <td>1.891321e+06</td>\n",
       "      <td>412.671007</td>\n",
       "      <td>420.726999</td>\n",
       "      <td>1.553940</td>\n",
       "      <td>0.007074</td>\n",
       "      <td>-42069.0</td>\n",
       "    </tr>\n",
       "    <tr>\n",
       "      <th>std</th>\n",
       "      <td>3.876200e+05</td>\n",
       "      <td>327.649794</td>\n",
       "      <td>326.231746</td>\n",
       "      <td>25.268327</td>\n",
       "      <td>0.091622</td>\n",
       "      <td>0.0</td>\n",
       "    </tr>\n",
       "    <tr>\n",
       "      <th>min</th>\n",
       "      <td>1.231339e+06</td>\n",
       "      <td>-59.620000</td>\n",
       "      <td>-8.260000</td>\n",
       "      <td>-0.400000</td>\n",
       "      <td>0.000000</td>\n",
       "      <td>-42069.0</td>\n",
       "    </tr>\n",
       "    <tr>\n",
       "      <th>25%</th>\n",
       "      <td>1.550808e+06</td>\n",
       "      <td>1.090000</td>\n",
       "      <td>7.480000</td>\n",
       "      <td>-0.400000</td>\n",
       "      <td>0.000000</td>\n",
       "      <td>-42069.0</td>\n",
       "    </tr>\n",
       "    <tr>\n",
       "      <th>50%</th>\n",
       "      <td>1.887326e+06</td>\n",
       "      <td>594.790000</td>\n",
       "      <td>609.220000</td>\n",
       "      <td>-0.400000</td>\n",
       "      <td>0.000000</td>\n",
       "      <td>-42069.0</td>\n",
       "    </tr>\n",
       "    <tr>\n",
       "      <th>75%</th>\n",
       "      <td>2.231002e+06</td>\n",
       "      <td>691.920000</td>\n",
       "      <td>696.400000</td>\n",
       "      <td>-0.400000</td>\n",
       "      <td>0.000000</td>\n",
       "      <td>-42069.0</td>\n",
       "    </tr>\n",
       "    <tr>\n",
       "      <th>max</th>\n",
       "      <td>2.554344e+06</td>\n",
       "      <td>813.340000</td>\n",
       "      <td>885.270000</td>\n",
       "      <td>1056.470000</td>\n",
       "      <td>3.830000</td>\n",
       "      <td>-42069.0</td>\n",
       "    </tr>\n",
       "  </tbody>\n",
       "</table>\n",
       "</div>"
      ],
      "text/plain": [
       "          Timestamp           PT1           PT2            LC       LC_VOLT  \\\n",
       "count  2.459900e+04  24599.000000  24599.000000  24599.000000  24599.000000   \n",
       "mean   1.891321e+06    412.671007    420.726999      1.553940      0.007074   \n",
       "std    3.876200e+05    327.649794    326.231746     25.268327      0.091622   \n",
       "min    1.231339e+06    -59.620000     -8.260000     -0.400000      0.000000   \n",
       "25%    1.550808e+06      1.090000      7.480000     -0.400000      0.000000   \n",
       "50%    1.887326e+06    594.790000    609.220000     -0.400000      0.000000   \n",
       "75%    2.231002e+06    691.920000    696.400000     -0.400000      0.000000   \n",
       "max    2.554344e+06    813.340000    885.270000   1056.470000      3.830000   \n",
       "\n",
       "       Packet Delimiter  \n",
       "count           24599.0  \n",
       "mean           -42069.0  \n",
       "std                 0.0  \n",
       "min            -42069.0  \n",
       "25%            -42069.0  \n",
       "50%            -42069.0  \n",
       "75%            -42069.0  \n",
       "max            -42069.0  "
      ]
     },
     "execution_count": 22,
     "metadata": {},
     "output_type": "execute_result"
    }
   ],
   "source": [
    "data.describe()"
   ]
  },
  {
   "cell_type": "markdown",
   "id": "behavioral-milwaukee",
   "metadata": {},
   "source": [
    "We note our max thrust (in LBF) is 1056 pounds! YAYAYAYAYAYAYAY!\n",
    "\n",
    "Additionally, we note our max pressure read by our two PTs are 813 and 885 pounds, respectively. These likely happened during fill procedures."
   ]
  },
  {
   "cell_type": "markdown",
   "id": "domestic-pharmaceutical",
   "metadata": {},
   "source": [
    "We convert the units of our first column to be seconds since first reading (instead of milliseconds since Arduino startup), for convenience:"
   ]
  },
  {
   "cell_type": "code",
   "execution_count": 100,
   "id": "operational-soccer",
   "metadata": {},
   "outputs": [],
   "source": [
    "data_mod = data.copy()\n",
    "\n",
    "data_mod['Timestamp'] = (data_mod['Timestamp'] - data_mod['Timestamp'].to_numpy()[0])/1000"
   ]
  },
  {
   "cell_type": "code",
   "execution_count": 101,
   "id": "described-makeup",
   "metadata": {},
   "outputs": [
    {
     "data": {
      "text/plain": [
       "0           0.000\n",
       "1           0.031\n",
       "2           0.061\n",
       "3           0.091\n",
       "4           0.122\n",
       "           ...   \n",
       "24594    1322.760\n",
       "24595    1322.851\n",
       "24596    1322.944\n",
       "24597    1322.974\n",
       "24598    1323.005\n",
       "Name: Timestamp, Length: 24599, dtype: float64"
      ]
     },
     "execution_count": 101,
     "metadata": {},
     "output_type": "execute_result"
    }
   ],
   "source": [
    "# confirm change\n",
    "data_mod['Timestamp']"
   ]
  },
  {
   "cell_type": "markdown",
   "id": "short-thirty",
   "metadata": {},
   "source": [
    "We now peform some plotting to visualize our data as follows:"
   ]
  },
  {
   "cell_type": "markdown",
   "id": "fixed-tamil",
   "metadata": {},
   "source": [
    "We note that we want to only plot our ideal ignition/fire window. We note that this is likely towards the end, at timestamps a bit less than 1150 seconds, as the initial non-zero readings were caused from RFI interference from Prop/Electronics members using walkie-talkies when performing initial fill-and-fire procedures."
   ]
  },
  {
   "cell_type": "code",
   "execution_count": 102,
   "id": "excellent-cancer",
   "metadata": {},
   "outputs": [],
   "source": [
    "fire_window=(1142, 1147.5)"
   ]
  },
  {
   "cell_type": "code",
   "execution_count": 103,
   "id": "several-arbor",
   "metadata": {},
   "outputs": [],
   "source": [
    "data_fire = data_mod[(data_mod['Timestamp'] >= fire_window[0]) & (data_mod['Timestamp'] <= fire_window[1])]"
   ]
  },
  {
   "cell_type": "code",
   "execution_count": 104,
   "id": "advanced-damage",
   "metadata": {},
   "outputs": [
    {
     "data": {
      "text/plain": [
       "<AxesSubplot:xlabel='Timestamp'>"
      ]
     },
     "execution_count": 104,
     "metadata": {},
     "output_type": "execute_result"
    },
    {
     "data": {
      "image/png": "[encoded data removed]",
      "text/plain": [
       "<Figure size 1440x720 with 1 Axes>"
      ]
     },
     "metadata": {
      "needs_background": "light"
     },
     "output_type": "display_data"
    }
   ],
   "source": [
    "data_fire.plot(x='Timestamp', y='LC', figsize=(20,10), xlim=fire_window)"
   ]
  },
  {
   "cell_type": "markdown",
   "id": "universal-horror",
   "metadata": {},
   "source": [
    "Look at that nice peak! Let's now calculate our impulse as follows:"
   ]
  },
  {
   "cell_type": "code",
   "execution_count": 119,
   "id": "developed-programming",
   "metadata": {},
   "outputs": [
    {
     "data": {
      "text/html": [
       "<div>\n",
       "<style scoped>\n",
       "    .dataframe tbody tr th:only-of-type {\n",
       "        vertical-align: middle;\n",
       "    }\n",
       "\n",
       "    .dataframe tbody tr th {\n",
       "        vertical-align: top;\n",
       "    }\n",
       "\n",
       "    .dataframe thead th {\n",
       "        text-align: right;\n",
       "    }\n",
       "</style>\n",
       "<table border=\"1\" class=\"dataframe\">\n",
       "  <thead>\n",
       "    <tr style=\"text-align: right;\">\n",
       "      <th></th>\n",
       "      <th>Timestamp</th>\n",
       "      <th>PT1</th>\n",
       "      <th>PT2</th>\n",
       "      <th>LC</th>\n",
       "      <th>LC_VOLT</th>\n",
       "      <th>Packet Delimiter</th>\n",
       "    </tr>\n",
       "  </thead>\n",
       "  <tbody>\n",
       "    <tr>\n",
       "      <th>20940</th>\n",
       "      <td>1142.085</td>\n",
       "      <td>812.12</td>\n",
       "      <td>812.63</td>\n",
       "      <td>-0.40</td>\n",
       "      <td>0.00</td>\n",
       "      <td>-42069</td>\n",
       "    </tr>\n",
       "    <tr>\n",
       "      <th>20941</th>\n",
       "      <td>1142.145</td>\n",
       "      <td>812.12</td>\n",
       "      <td>815.05</td>\n",
       "      <td>-0.40</td>\n",
       "      <td>0.00</td>\n",
       "      <td>-42069</td>\n",
       "    </tr>\n",
       "    <tr>\n",
       "      <th>20942</th>\n",
       "      <td>1142.176</td>\n",
       "      <td>812.12</td>\n",
       "      <td>813.84</td>\n",
       "      <td>-0.40</td>\n",
       "      <td>0.00</td>\n",
       "      <td>-42069</td>\n",
       "    </tr>\n",
       "    <tr>\n",
       "      <th>20943</th>\n",
       "      <td>1142.206</td>\n",
       "      <td>812.12</td>\n",
       "      <td>815.05</td>\n",
       "      <td>-0.40</td>\n",
       "      <td>0.00</td>\n",
       "      <td>-42069</td>\n",
       "    </tr>\n",
       "    <tr>\n",
       "      <th>20944</th>\n",
       "      <td>1142.237</td>\n",
       "      <td>812.12</td>\n",
       "      <td>815.05</td>\n",
       "      <td>-0.40</td>\n",
       "      <td>0.00</td>\n",
       "      <td>-42069</td>\n",
       "    </tr>\n",
       "    <tr>\n",
       "      <th>20945</th>\n",
       "      <td>1142.268</td>\n",
       "      <td>812.12</td>\n",
       "      <td>815.05</td>\n",
       "      <td>-0.40</td>\n",
       "      <td>0.00</td>\n",
       "      <td>-42069</td>\n",
       "    </tr>\n",
       "    <tr>\n",
       "      <th>20946</th>\n",
       "      <td>1142.421</td>\n",
       "      <td>808.48</td>\n",
       "      <td>815.05</td>\n",
       "      <td>-0.40</td>\n",
       "      <td>0.00</td>\n",
       "      <td>-42069</td>\n",
       "    </tr>\n",
       "    <tr>\n",
       "      <th>20947</th>\n",
       "      <td>1142.451</td>\n",
       "      <td>812.12</td>\n",
       "      <td>815.05</td>\n",
       "      <td>-0.40</td>\n",
       "      <td>0.00</td>\n",
       "      <td>-42069</td>\n",
       "    </tr>\n",
       "    <tr>\n",
       "      <th>20948</th>\n",
       "      <td>1142.482</td>\n",
       "      <td>812.12</td>\n",
       "      <td>815.05</td>\n",
       "      <td>-0.40</td>\n",
       "      <td>0.00</td>\n",
       "      <td>-42069</td>\n",
       "    </tr>\n",
       "    <tr>\n",
       "      <th>20949</th>\n",
       "      <td>1142.513</td>\n",
       "      <td>812.12</td>\n",
       "      <td>815.05</td>\n",
       "      <td>-0.40</td>\n",
       "      <td>0.00</td>\n",
       "      <td>-42069</td>\n",
       "    </tr>\n",
       "    <tr>\n",
       "      <th>20950</th>\n",
       "      <td>1142.635</td>\n",
       "      <td>810.91</td>\n",
       "      <td>885.27</td>\n",
       "      <td>1056.47</td>\n",
       "      <td>3.83</td>\n",
       "      <td>-42069</td>\n",
       "    </tr>\n",
       "    <tr>\n",
       "      <th>20951</th>\n",
       "      <td>1142.727</td>\n",
       "      <td>234.20</td>\n",
       "      <td>640.70</td>\n",
       "      <td>555.00</td>\n",
       "      <td>2.01</td>\n",
       "      <td>-42069</td>\n",
       "    </tr>\n",
       "    <tr>\n",
       "      <th>20952</th>\n",
       "      <td>1142.757</td>\n",
       "      <td>161.35</td>\n",
       "      <td>638.28</td>\n",
       "      <td>618.36</td>\n",
       "      <td>2.24</td>\n",
       "      <td>-42069</td>\n",
       "    </tr>\n",
       "    <tr>\n",
       "      <th>20953</th>\n",
       "      <td>1142.788</td>\n",
       "      <td>104.29</td>\n",
       "      <td>638.28</td>\n",
       "      <td>572.52</td>\n",
       "      <td>2.08</td>\n",
       "      <td>-42069</td>\n",
       "    </tr>\n",
       "    <tr>\n",
       "      <th>20954</th>\n",
       "      <td>1142.879</td>\n",
       "      <td>3.52</td>\n",
       "      <td>629.81</td>\n",
       "      <td>614.31</td>\n",
       "      <td>2.23</td>\n",
       "      <td>-42069</td>\n",
       "    </tr>\n",
       "  </tbody>\n",
       "</table>\n",
       "</div>"
      ],
      "text/plain": [
       "       Timestamp     PT1     PT2       LC  LC_VOLT  Packet Delimiter\n",
       "20940   1142.085  812.12  812.63    -0.40     0.00            -42069\n",
       "20941   1142.145  812.12  815.05    -0.40     0.00            -42069\n",
       "20942   1142.176  812.12  813.84    -0.40     0.00            -42069\n",
       "20943   1142.206  812.12  815.05    -0.40     0.00            -42069\n",
       "20944   1142.237  812.12  815.05    -0.40     0.00            -42069\n",
       "20945   1142.268  812.12  815.05    -0.40     0.00            -42069\n",
       "20946   1142.421  808.48  815.05    -0.40     0.00            -42069\n",
       "20947   1142.451  812.12  815.05    -0.40     0.00            -42069\n",
       "20948   1142.482  812.12  815.05    -0.40     0.00            -42069\n",
       "20949   1142.513  812.12  815.05    -0.40     0.00            -42069\n",
       "20950   1142.635  810.91  885.27  1056.47     3.83            -42069\n",
       "20951   1142.727  234.20  640.70   555.00     2.01            -42069\n",
       "20952   1142.757  161.35  638.28   618.36     2.24            -42069\n",
       "20953   1142.788  104.29  638.28   572.52     2.08            -42069\n",
       "20954   1142.879    3.52  629.81   614.31     2.23            -42069"
      ]
     },
     "execution_count": 119,
     "metadata": {},
     "output_type": "execute_result"
    }
   ],
   "source": [
    "data_fire.head(15)"
   ]
  },
  {
   "cell_type": "markdown",
   "id": "dedicated-actor",
   "metadata": {},
   "source": [
    "We first move our 0 reading to actually 0..."
   ]
  },
  {
   "cell_type": "code",
   "execution_count": 106,
   "id": "coastal-rough",
   "metadata": {},
   "outputs": [],
   "source": [
    "data_fire_mod = data_fire.copy()\n",
    "\n",
    "data_fire_mod['LC'] = data_fire_mod['LC'] + abs(data_fire_mod['LC'].to_numpy()[0])"
   ]
  },
  {
   "cell_type": "markdown",
   "id": "incredible-integer",
   "metadata": {},
   "source": [
    "...and compute our total impulese (N * s) as follows:"
   ]
  },
  {
   "cell_type": "code",
   "execution_count": 108,
   "id": "decreased-bench",
   "metadata": {},
   "outputs": [],
   "source": [
    "total_impulse_lbf_s = auc(data_fire_mod['Timestamp'], data_fire_mod['LC'])"
   ]
  },
  {
   "cell_type": "markdown",
   "id": "asian-theta",
   "metadata": {},
   "source": [
    "...converting to N-s:"
   ]
  },
  {
   "cell_type": "code",
   "execution_count": 110,
   "id": "latter-workshop",
   "metadata": {},
   "outputs": [],
   "source": [
    "total_impulse_N_s = total_impulse_lbf_s * 4.44822 # conversion factor from LBF to Newtons"
   ]
  },
  {
   "cell_type": "code",
   "execution_count": 112,
   "id": "greenhouse-folks",
   "metadata": {},
   "outputs": [
    {
     "name": "stdout",
     "output_type": "stream",
     "text": [
      "Total Impulse: 1530.9029400000709 LBF-s, or 6809.793075767116 N-s\n"
     ]
    }
   ],
   "source": [
    "print(\"Total Impulse:\", total_impulse_lbf_s, \"LBF-s, or\", total_impulse_N_s, \"N-s\")"
   ]
  },
  {
   "cell_type": "markdown",
   "id": "abandoned-buffer",
   "metadata": {},
   "source": [
    "We look at burn time estimated to be:"
   ]
  },
  {
   "cell_type": "code",
   "execution_count": 117,
   "id": "demonstrated-flexibility",
   "metadata": {},
   "outputs": [
    {
     "name": "stdout",
     "output_type": "stream",
     "text": [
      "Estimated burn time: 4.560000000000173\n"
     ]
    }
   ],
   "source": [
    "print(\"Estimated burn time:\", 1147.073 - 1142.513)"
   ]
  },
  {
   "cell_type": "markdown",
   "id": "conditional-microphone",
   "metadata": {},
   "source": [
    "Now, let's graph the PT data during our fill-and-fire procedures:"
   ]
  },
  {
   "cell_type": "code",
   "execution_count": 129,
   "id": "painful-marble",
   "metadata": {},
   "outputs": [
    {
     "data": {
      "text/plain": [
       "<AxesSubplot:xlabel='Timestamp'>"
      ]
     },
     "execution_count": 129,
     "metadata": {},
     "output_type": "execute_result"
    },
    {
     "data": {
      "image/png": "[encoded data removed]",
      "text/plain": [
       "<Figure size 1440x720 with 1 Axes>"
      ]
     },
     "metadata": {
      "needs_background": "light"
     },
     "output_type": "display_data"
    }
   ],
   "source": [
    "data_mod.plot(x='Timestamp', y='PT1', figsize=(20,10))"
   ]
  },
  {
   "cell_type": "code",
   "execution_count": 130,
   "id": "rough-sailing",
   "metadata": {},
   "outputs": [
    {
     "data": {
      "text/plain": [
       "<AxesSubplot:xlabel='Timestamp'>"
      ]
     },
     "execution_count": 130,
     "metadata": {},
     "output_type": "execute_result"
    },
    {
     "data": {
      "image/png": "[encoded data removed]",
      "text/plain": [
       "<Figure size 1440x720 with 1 Axes>"
      ]
     },
     "metadata": {
      "needs_background": "light"
     },
     "output_type": "display_data"
    }
   ],
   "source": [
    "data_mod.plot(x='Timestamp', y='PT2', figsize=(20,10))"
   ]
  }
 ],
 "metadata": {
  "kernelspec": {
   "display_name": "Python 3",
   "language": "python",
   "name": "python3"
  },
  "language_info": {
   "codemirror_mode": {
    "name": "ipython",
    "version": 3
   },
   "file_extension": ".py",
   "mimetype": "text/x-python",
   "name": "python",
   "nbconvert_exporter": "python",
   "pygments_lexer": "ipython3",
   "version": "3.8.8"
  }
 },
 "nbformat": 4,
 "nbformat_minor": 5
}
